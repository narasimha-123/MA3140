{
 "cells": [
  {
   "cell_type": "markdown",
   "metadata": {},
   "source": [
    "# Binary-Classification"
   ]
  },
  {
   "cell_type": "markdown",
   "metadata": {},
   "source": [
    "## Imports"
   ]
  },
  {
   "cell_type": "markdown",
   "metadata": {},
   "source": [
    "### Importing Libraries"
   ]
  },
  {
   "cell_type": "code",
   "execution_count": 1,
   "metadata": {},
   "outputs": [],
   "source": [
    "import numpy as np\n",
    "import matplotlib.pyplot as plt\n",
    "import os\n",
    "import random\n",
    "import pandas as pd\n",
    "\n",
    "# Tensorflow Libraries\n",
    "import tensorflow as tf\n",
    "os.environ['TF_CPP_MIN_LOG_LEVEL'] = '3'\n",
    "from tensorflow.keras.layers import Dense, Input"
   ]
  },
  {
   "cell_type": "markdown",
   "metadata": {},
   "source": [
    "### Importing Dataset\n",
    "Dataset: https://archive.ics.uci.edu/ml/datasets/banknote+authentication\n",
    "\n",
    "**Dataset Information:**\n",
    "Data were extracted from images that were taken from genuine and forged banknote-like specimens. For digitization, an industrial camera usually used for print inspection was used. The final images have 400x 400 pixels. Due to the object lens and distance to the investigated object gray-scale pictures with a resolution of about 660 dpi were gained. Wavelet Transform tool were used to extract features from images.\n",
    "\n",
    "\n",
    "\n",
    "**Attribute Information:**\n",
    "1. variance of Wavelet Transformed image (continuous)\n",
    "2. skewness of Wavelet Transformed image (continuous)\n",
    "3. curtosis of Wavelet Transformed image (continuous)\n",
    "4. entropy of image (continuous)\n",
    "5. class (integer)"
   ]
  },
  {
   "cell_type": "code",
   "execution_count": 2,
   "metadata": {},
   "outputs": [],
   "source": [
    "# Extracting Dataset\n",
    "Dataset = []\n",
    "with open(\"Dataset/data_banknote_authentication.txt\") as f:\n",
    "\tfor line in f:\n",
    "\t\tDataset.append([float(d) for d in line.split(\",\")])\n",
    "Dataset = np.array(Dataset)\n",
    "\n",
    "# Input\n",
    "X = Dataset[:,0:4]\n",
    "\n",
    "# Labels\n",
    "y = Dataset[:,4]"
   ]
  },
  {
   "cell_type": "markdown",
   "metadata": {},
   "source": [
    "## Neural Network\n",
    "\n",
    "Creating a neural network for classification.\n",
    "\n",
    "**Prediction:** $ \\hat{y} = \\sigma(\\text{W}^{\\text{T}}{X} + \\text{b}) = \\frac{1}{1 + e^{-\\left(\\text{W}^{\\text{T}}{X} + \\text{b}\\right)}}$ \\\n",
    "**Loss Function:** L = $-\\frac{1}{N} \\sum_{i=1}^{N} y_{i} \\cdot \\log \\left(\\hat{y}\\right)+\\left(1-y_{i}\\right) \\cdot \\log \\left(1-\\hat{y}\\right)$\n",
    "\n",
    "where:\n",
    "- No.of Samples = N\n",
    "- Weights = W\n",
    "- Bias = b\n",
    "- Input = X\n",
    "- Outputs/Targets/Labels = y\n",
    "- Sigmoid Function = $\\sigma$"
   ]
  },
  {
   "cell_type": "markdown",
   "metadata": {},
   "source": [
    "### Creating a Model"
   ]
  },
  {
   "cell_type": "code",
   "execution_count": 3,
   "metadata": {},
   "outputs": [],
   "source": [
    "def CreateNetwork():\n",
    "\ttf.keras.backend.clear_session()\n",
    "\tInp = Input(shape=(4,))\n",
    "\tx = Dense(4, activation=\"relu\")(Inp)\n",
    "\tOut = Dense(1, activation=\"sigmoid\")(x)\n",
    "\n",
    "\treturn tf.keras.Model(Inp, Out)"
   ]
  },
  {
   "cell_type": "code",
   "execution_count": 4,
   "metadata": {},
   "outputs": [
    {
     "name": "stdout",
     "output_type": "stream",
     "text": [
      "Model: \"model\"\n",
      "_________________________________________________________________\n",
      "Layer (type)                 Output Shape              Param #   \n",
      "=================================================================\n",
      "input_1 (InputLayer)         [(None, 4)]               0         \n",
      "_________________________________________________________________\n",
      "dense (Dense)                (None, 4)                 20        \n",
      "_________________________________________________________________\n",
      "dense_1 (Dense)              (None, 1)                 5         \n",
      "=================================================================\n",
      "Total params: 25\n",
      "Trainable params: 25\n",
      "Non-trainable params: 0\n",
      "_________________________________________________________________\n"
     ]
    }
   ],
   "source": [
    "Classifier = CreateNetwork()\n",
    "Classifier.compile(optimizer=\"Adam\", loss=\"binary_crossentropy\", metrics=['accuracy'])\n",
    "Classifier.summary()"
   ]
  },
  {
   "cell_type": "markdown",
   "metadata": {},
   "source": [
    "### Training the Model"
   ]
  },
  {
   "cell_type": "code",
   "execution_count": 5,
   "metadata": {},
   "outputs": [
    {
     "name": "stdout",
     "output_type": "stream",
     "text": [
      "Epoch 1/10\n",
      "309/309 [==============================] - 3s 5ms/step - loss: 0.7297 - accuracy: 0.5794 - val_loss: 0.8584 - val_accuracy: 0.3188\n",
      "Epoch 2/10\n",
      "309/309 [==============================] - 2s 5ms/step - loss: 0.4074 - accuracy: 0.7755 - val_loss: 0.6816 - val_accuracy: 0.5217\n",
      "Epoch 3/10\n",
      "309/309 [==============================] - 1s 4ms/step - loss: 0.2956 - accuracy: 0.8663 - val_loss: 0.5371 - val_accuracy: 0.7971\n",
      "Epoch 4/10\n",
      "309/309 [==============================] - 1s 4ms/step - loss: 0.2318 - accuracy: 0.9352 - val_loss: 0.4374 - val_accuracy: 0.9203\n",
      "Epoch 5/10\n",
      "309/309 [==============================] - 1s 4ms/step - loss: 0.1898 - accuracy: 0.9619 - val_loss: 0.3680 - val_accuracy: 0.9348\n",
      "Epoch 6/10\n",
      "309/309 [==============================] - 1s 4ms/step - loss: 0.1593 - accuracy: 0.9814 - val_loss: 0.3134 - val_accuracy: 0.9638\n",
      "Epoch 7/10\n",
      "309/309 [==============================] - 1s 5ms/step - loss: 0.1363 - accuracy: 0.9870 - val_loss: 0.2708 - val_accuracy: 0.9783\n",
      "Epoch 8/10\n",
      "309/309 [==============================] - 1s 4ms/step - loss: 0.1176 - accuracy: 0.9903 - val_loss: 0.2340 - val_accuracy: 0.9928\n",
      "Epoch 9/10\n",
      "309/309 [==============================] - 1s 5ms/step - loss: 0.1020 - accuracy: 0.9943 - val_loss: 0.2005 - val_accuracy: 0.9928\n",
      "Epoch 10/10\n",
      "309/309 [==============================] - 1s 5ms/step - loss: 0.0891 - accuracy: 0.9943 - val_loss: 0.1760 - val_accuracy: 0.9928\n"
     ]
    },
    {
     "data": {
      "text/plain": [
       "<keras.callbacks.History at 0x7f8e840c7f60>"
      ]
     },
     "execution_count": 5,
     "metadata": {},
     "output_type": "execute_result"
    }
   ],
   "source": [
    "Classifier.fit(X, y, batch_size=4, epochs=10, validation_split=0.1)"
   ]
  }
 ],
 "metadata": {
  "interpreter": {
   "hash": "31f2aee4e71d21fbe5cf8b01ff0e069b9275f58929596ceb00d14d90e3e16cd6"
  },
  "kernelspec": {
   "display_name": "Python 3.6.9 64-bit",
   "language": "python",
   "name": "python3"
  },
  "language_info": {
   "codemirror_mode": {
    "name": "ipython",
    "version": 3
   },
   "file_extension": ".py",
   "mimetype": "text/x-python",
   "name": "python",
   "nbconvert_exporter": "python",
   "pygments_lexer": "ipython3",
   "version": "3.6.9"
  },
  "orig_nbformat": 4
 },
 "nbformat": 4,
 "nbformat_minor": 2
}
